{
 "cells": [
  {
   "cell_type": "code",
   "execution_count": 2,
   "id": "bd0b24eb-4386-4e7c-b1c5-c4ee37f3e23a",
   "metadata": {},
   "outputs": [
    {
     "name": "stdout",
     "output_type": "stream",
     "text": [
      "✅ 已生成修正后的极图数据文件：/Users/maguag/Desktop/XRD教学/XRDML/PKU20250731/220-220.txt\n"
     ]
    }
   ],
   "source": [
    "## 直接提取原来omega数据\n",
    "\n",
    "import xml.etree.ElementTree as ET\n",
    "\n",
    "def parse_xrdml_phi_0_to_355(input_file, output_file):\n",
    "    tree = ET.parse(input_file)\n",
    "    root = tree.getroot()\n",
    "    ns = {'ns': root.tag.split('}')[0].strip('{')}\n",
    "\n",
    "    output_lines = []\n",
    "    phi_values = list(range(0, 360, 5))  # 共 72 个点\n",
    "\n",
    "    for scan in root.findall('.//ns:scan', ns):\n",
    "        omega_elem = scan.find('.//ns:positions[@axis=\"Omega\"]/ns:commonPosition', ns)\n",
    "        if omega_elem is None:\n",
    "            continue\n",
    "        omega = float(omega_elem.text)\n",
    "\n",
    "\n",
    "        intensity_elem = scan.find('.//ns:intensities', ns)\n",
    "        if intensity_elem is None:\n",
    "            continue\n",
    "        intensities = list(map(float, intensity_elem.text.strip().split()))\n",
    "\n",
    "        if len(intensities) != 73:\n",
    "            print(f\"⚠️ Omega={omega}: intensity 点数 {len(intensities)} ≠ 73，跳过\")\n",
    "            continue\n",
    "\n",
    "        intensities = intensities[:-1]  # 保留前 72 个\n",
    "\n",
    "        phi_reordered = [(i + 180) % 360 for i in range(-180, 180, 5)] \n",
    "        reordered_data = sorted(zip(phi_reordered, intensities), key=lambda x: x[0])\n",
    "\n",
    "        for phi, inten in reordered_data:\n",
    "            output_lines.append(f\"{omega:.3f}\\t{phi:.1f}\\t{inten:.2f}\")\n",
    "\n",
    "    with open(output_file, 'w') as f:\n",
    "        f.write(\"Omega(deg)\\tPhi(deg)\\tIntensity(counts)\\n\")\n",
    "        f.write('\\n'.join(output_lines))\n",
    "\n",
    "    print(f\"✅ 已生成修正后的极图数据文件：{output_file}\")\n",
    "\n",
    "# 使用示例\n",
    "if __name__ == \"__main__\":\n",
    "    input_xrdml = \"/Users/maguag/Desktop/XRD教学/XRDML/PKU20250731/220.xrdml\"  # 替换为你的文件路径\n",
    "    output_txt = \"/Users/maguag/Desktop/XRD教学/XRDML/PKU20250731/220-220.txt\"   # 替换为你的文件路径\n",
    "    parse_xrdml_phi_0_to_355(input_xrdml, output_txt)"
   ]
  },
  {
   "cell_type": "code",
   "execution_count": 2,
   "id": "cbfe170f-808f-4af2-a18c-55376480d278",
   "metadata": {},
   "outputs": [
    {
     "name": "stdout",
     "output_type": "stream",
     "text": [
      "✅ 已成功生成文件：/Users/maguag/Desktop/20250731/220.txt\n"
     ]
    }
   ],
   "source": [
    "#提取处理后的omega数据，添加已经知的正确角度\n",
    "\n",
    "\n",
    "import xml.etree.ElementTree as ET\n",
    "\n",
    "def parse_xrdml_to_polefig(input_file, output_file):\n",
    "    tree = ET.parse(input_file)\n",
    "    root = tree.getroot()\n",
    "    ns = {'ns': root.tag.split('}')[0].strip('{')}\n",
    "    \n",
    "    output_lines = []\n",
    "    phi_values = list(range(0, 360, 5))     \n",
    "    fixed_omega = list(range(-5, 61, 5))   # 如果这里因为已经知道角度，直接用近似的数据代替了\n",
    "    \n",
    "    scans = root.findall('.//ns:scan', ns)\n",
    "    if len(scans) < len(fixed_omega):\n",
    "        print(f\"警告：扫描块数({len(scans)})少于预期的 Omega 数({len(fixed_omega)})！\")\n",
    "    \n",
    "    for idx, scan in enumerate(scans):\n",
    "        if idx >= len(fixed_omega):\n",
    "            break\n",
    "        omega = fixed_omega[idx]     \n",
    "        intensity_elem = scan.find('.//ns:intensities', ns)\n",
    "        if intensity_elem is None:\n",
    "            continue\n",
    "        intensities = list(map(float, intensity_elem.text.strip().split())) \n",
    "        \n",
    "        if len(intensities) != 73:\n",
    "            print(f\"警告：在 Omega={omega}° 时 intensity 数量({len(intensities)}) != 73，跳过此块。\")\n",
    "            continue\n",
    "        intensities = intensities[:-1]  \n",
    "        \n",
    "        if len(intensities) != len(phi_values):\n",
    "            print(f\"警告：在 Omega={omega}° 时 intensity 数量({len(intensities)}) 与 phi 数量({len(phi_values)})不匹配。\")\n",
    "            continue\n",
    "        \n",
    "        for phi, inten in zip(phi_values, intensities):\n",
    "            output_lines.append(f\"{omega}\\t{phi}\\t{inten}\")\n",
    "    \n",
    "    with open(output_file, \"w\") as f:\n",
    "        f.write(\"Omega(deg)\\tPhi(deg)\\tIntensity(counts)\\n\")\n",
    "        f.write(\"\\n\".join(output_lines))\n",
    "    \n",
    "    print(f\"✅ 已成功生成文件：{output_file}\")\n",
    "\n",
    "\n",
    "\n",
    "# 示例调用\n",
    "if __name__ == \"__main__\":\n",
    "    input_xrdml = \"/Users/maguag/Desktop/20250731/220.xrdml\"  # 替换为你的文件路径\n",
    "    output_txt = \"/Users/maguag/Desktop/20250731/220.txt\"     # 替换为你的文件路径\n",
    "    parse_xrdml_to_polefig(input_xrdml, output_txt)"
   ]
  },
  {
   "cell_type": "code",
   "execution_count": null,
   "id": "c465069b-c331-4a67-a7f2-97ccf94e16ed",
   "metadata": {},
   "outputs": [],
   "source": []
  }
 ],
 "metadata": {
  "kernelspec": {
   "display_name": "Python 3 (ipykernel)",
   "language": "python",
   "name": "python3"
  },
  "language_info": {
   "codemirror_mode": {
    "name": "ipython",
    "version": 3
   },
   "file_extension": ".py",
   "mimetype": "text/x-python",
   "name": "python",
   "nbconvert_exporter": "python",
   "pygments_lexer": "ipython3",
   "version": "3.10.18"
  }
 },
 "nbformat": 4,
 "nbformat_minor": 5
}
