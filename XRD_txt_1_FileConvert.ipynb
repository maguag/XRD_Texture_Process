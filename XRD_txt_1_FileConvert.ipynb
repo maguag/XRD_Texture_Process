{
 "cells": [
  {
   "cell_type": "code",
   "execution_count": 2,
   "id": "f79a4f7e-85d4-4252-aaff-f6aa0b0fbec2",
   "metadata": {},
   "outputs": [],
   "source": [
    "import numpy as np\n",
    "import pandas as pd\n",
    "\n",
    "\n",
    "data = pd.read_csv(\"/Users/maguag/Desktop/XRD教学/Origin绘制极图/002.txt\", sep=\"\\s+\", header=None).values\n",
    "\n",
    "\n",
    "data = data[1:, 1:]\n",
    "\n",
    "# print(\"data shape:\", data.shape)\n",
    "\n",
    "theta_range = np.arange(0, 76, 5)         # 0:5:75\n",
    "phi_range = np.arange(2.5, 358, 5)        # 2.5:5:357.5\n",
    "\n",
    "\n",
    "PHI, THETA = np.meshgrid(phi_range, theta_range)\n",
    "\n",
    "\n",
    "phi_flat = PHI.ravel()\n",
    "theta_flat = THETA.ravel()\n",
    "intensity_flat = data.ravel(order=\"F\")\n",
    "\n",
    "result = np.column_stack((theta_flat, phi_flat, intensity_flat))\n",
    "\n",
    "np.savetxt(\"/Users/maguag/Desktop/XRD教学/Origin绘制极图/002-c.txt\", result, delimiter=\"\\t\", fmt=\"%.6f\")"
   ]
  },
  {
   "cell_type": "code",
   "execution_count": null,
   "id": "910b58c6-8d86-47ac-b282-61b08af80159",
   "metadata": {},
   "outputs": [],
   "source": []
  }
 ],
 "metadata": {
  "kernelspec": {
   "display_name": "Python 3 (ipykernel)",
   "language": "python",
   "name": "python3"
  },
  "language_info": {
   "codemirror_mode": {
    "name": "ipython",
    "version": 3
   },
   "file_extension": ".py",
   "mimetype": "text/x-python",
   "name": "python",
   "nbconvert_exporter": "python",
   "pygments_lexer": "ipython3",
   "version": "3.10.18"
  }
 },
 "nbformat": 4,
 "nbformat_minor": 5
}
